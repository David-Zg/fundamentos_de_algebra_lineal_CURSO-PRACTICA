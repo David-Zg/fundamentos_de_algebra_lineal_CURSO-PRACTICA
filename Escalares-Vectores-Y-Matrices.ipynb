{
 "cells": [
  {
   "cell_type": "code",
   "execution_count": null,
   "metadata": {},
   "outputs": [],
   "source": []
  }
 ],
 "metadata": {
  "interpreter": {
   "hash": "f201615061f52c0a8a01551a0ba86c716b609ac3dee84ddc1f0e76b6c4614742"
  },
  "kernelspec": {
   "display_name": "Python 3.7.11 64-bit ('FundamentosAL': conda)",
   "language": "python",
   "name": "python3"
  },
  "language_info": {
   "name": "python",
   "version": "3.7.11"
  },
  "orig_nbformat": 4
 },
 "nbformat": 4,
 "nbformat_minor": 2
}
